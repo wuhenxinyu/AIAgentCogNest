{
 "cells": [
  {
   "cell_type": "code",
   "execution_count": null,
   "id": "6204a11d-c7d8-4738-b61d-a71fd6a0f919",
   "metadata": {
    "tags": []
   },
   "outputs": [],
   "source": [
    "import os\n",
    "from openai import OpenAI\n",
    "import os\n",
    "\n",
    "os.environ[\"DASHSCOPE_API_KEY\"] = \"your_api_key_here\"\n",
    "client = OpenAI(\n",
    "    api_key=os.getenv(\"DASHSCOPE_API_KEY\"), \n",
    "    base_url=\"https://dashscope.aliyuncs.com/compatible-mode/v1\",\n",
    ")\n",
    "\n",
    "completion = client.chat.completions.create(\n",
    "    model=\"qwen-vl-max\", #qwen-vl-plus\n",
    "    messages=[\n",
    "        {\n",
    "            \"role\": \"user\",\n",
    "            \"content\": [\n",
    "                {\"type\": \"text\", \"text\": \"这是什么\"},\n",
    "                {\"type\": \"image_url\",\"image_url\": {\"url\": \"https://dashscope.oss-cn-beijing.aliyuncs.com/images/dog_and_girl.jpeg\"}}\n",
    "            ]\n",
    "        }\n",
    "        ]\n",
    "    )\n",
    "print(completion.model_dump_json())"
   ]
  },
  {
   "cell_type": "code",
   "execution_count": null,
   "id": "57885338-c847-43b6-ad80-904afce707ef",
   "metadata": {
    "tags": []
   },
   "outputs": [],
   "source": [
    "messages = [\n",
    "        {\n",
    "            \"role\": \"user\",\n",
    "            \"content\": [\n",
    "                {\"type\": \"text\", \"text\": \"框出图中轮毂的位置\"},\n",
    "                {\"type\": \"image_url\",\"image_url\": {\"url\": \"https://easycar.oss-cn-beijing.aliyuncs.com/car_undistorted.jpg\"}}\n",
    "            ]\n",
    "        }\n",
    "    ]\n",
    "\n",
    "completion = client.chat.completions.create(\n",
    "    model=\"qwen-vl-max-2024-08-09\",\n",
    "    messages=messages\n",
    "    )\n",
    "print(completion.model_dump_json())"
   ]
  },
  {
   "cell_type": "code",
   "execution_count": 3,
   "id": "b5451edd-88c8-4b20-ab48-44108ba8d988",
   "metadata": {
    "tags": []
   },
   "outputs": [],
   "source": [
    "#help(completion)"
   ]
  },
  {
   "cell_type": "code",
   "execution_count": null,
   "id": "811c666e-13a4-472b-9410-21140af70780",
   "metadata": {
    "tags": []
   },
   "outputs": [],
   "source": [
    "messages.append({'role': 'assistant', 'content': completion.choices[0].message.content})\n",
    "messages.append({\n",
    "            \"role\": \"user\",\n",
    "            \"content\": [\n",
    "                {\"type\": \"text\", \"text\": \"图中轮毂的位置在哪里\"},\n",
    "                {\"type\": \"image_url\",\"image_url\": {\"url\": \"https://easycar.oss-cn-beijing.aliyuncs.com/car_undistorted.jpg\"}}\n",
    "            ]\n",
    "        })\n",
    "messages"
   ]
  },
  {
   "cell_type": "code",
   "execution_count": null,
   "id": "79bf1a91-45fc-4d22-bd12-45b36e4cbc3a",
   "metadata": {
    "tags": []
   },
   "outputs": [],
   "source": [
    "completion = client.chat.completions.create(\n",
    "    model=\"qwen-vl-plus\",\n",
    "    messages=messages\n",
    ")     \n",
    "\n",
    "print(completion.model_dump_json())"
   ]
  },
  {
   "cell_type": "code",
   "execution_count": null,
   "id": "6fc9e98e-0357-4f28-bb9f-125b2082fc40",
   "metadata": {
    "tags": []
   },
   "outputs": [],
   "source": [
    "completion"
   ]
  },
  {
   "cell_type": "code",
   "execution_count": null,
   "id": "d9424d6a-9cc6-41f8-be8c-a13efa655c54",
   "metadata": {
    "tags": []
   },
   "outputs": [],
   "source": [
    "# 调用Qwen-VL本地的模型\n",
    "import torch\n",
    "from transformers import AutoModelForCausalLM, AutoTokenizer\n",
    "# 设置 PyTorch 的随机种子为 1234，确保随机操作（如模型初始化、数据打乱等）的结果可复现。\n",
    "# torch.manual_seed(1234)\n",
    "# Note: The default behavior now has injection attack prevention off.\n",
    "# 从指定路径加载Qwen-VL-Chat模型的分词器，trust_remote_code=True 表示允许加载远程代码\n",
    "# AutoTokenizer.from_pretrained 是 transformers 库中的方法，用于从预训练模型路径加载对应的分词器\n",
    "tokenizer = AutoTokenizer.from_pretrained(\"/root/autodl-tmp/model/Qwen/Qwen-VL-Chat\", trust_remote_code=True)\n",
    "# use bf16\n",
    "# model = AutoModelForCausalLM.from_pretrained(\"Qwen/Qwen-VL-Chat\", device_map=\"auto\", trust_remote_code=True, bf16=True).eval()\n",
    "# use fp16\n",
    "# model = AutoModelForCausalLM.from_pretrained(\"Qwen/Qwen-VL-Chat\", device_map=\"auto\", trust_remote_code=True, fp16=True).eval()\n",
    "# use cpu only\n",
    "# model = AutoModelForCausalLM.from_pretrained(\"Qwen/Qwen-VL-Chat\", device_map=\"cpu\", trust_remote_code=True).eval()\n",
    "\n",
    "# use cuda device\n",
    "# 使用 transformers 库的 AutoModelForCausalLM.from_pretrained 方法加载预训练的 Qwen-VL-Chat 模型。\n",
    "# 参数 \"Qwen/Qwen-VL-Chat\" 指定了要加载的模型名称，这里是阿里云推出的多模态大模型 Qwen-VL 的聊天版本。\n",
    "# device_map=\"cuda\" 表示将模型加载到 CUDA 设备（即 GPU）上运行，以利用 GPU 的并行计算能力加速模型推理。\n",
    "# trust_remote_code=True 表示允许加载远程代码，由于 Qwen-VL 模型有自定义的代码实现，需要该参数来确保正确加载。\n",
    "# .eval() 方法将模型设置为评估模式，这会关闭一些在训练时使用的特殊层（如 Dropout），适合进行推理任务。\n",
    "# 模型加载到 CUDA 设备（即 GPU）上运行，以利用 GPU 的并行计算能力加速模型推理。\n",
    "# bf16=True 表示使用 bf16 精度加载模型，这可以在 GPU 上加速推理，同时减少内存占用。\n",
    "# use_cache=False 表示不使用缓存，这可以在推理时避免一些内存问题。\n",
    "model = AutoModelForCausalLM.from_pretrained(\"/root/autodl-tmp/model/Qwen/Qwen-VL-Chat\", device_map=\"cuda\", trust_remote_code=True, bf16=True,use_cache=False ).eval()\n",
    "\n",
    "# Specify hyperparameters for generation (No need to do this if you are using transformers>=4.32.0)\n",
    "# model.generation_config = GenerationConfig.from_pretrained(\"Qwen/Qwen-VL-Chat\", trust_remote_code=True)\n",
    "# 使用分词器的 from_list_format 方法将多模态输入转换为模型可接受的格式\n",
    "# 该方法接受一个列表，列表中的每个元素是一个字典，可包含图像和文本信息\n",
    "# 图像可以是本地路径或 URL，这里注释掉的示例展示了另一个图像 URL\n",
    "query = tokenizer.from_list_format([\n",
    "    #{'image': 'https://easycar.oss-cn-beijing.aliyuncs.com/2.jpg'}, # Either a local path or an url\n",
    "    {'image': 'https://easycar.oss-cn-beijing.aliyuncs.com/car_undistorted.jpg'},\n",
    "    {'text': '这是什么?'},\n",
    "])\n",
    "\n",
    "# 调用模型的 chat 方法进行对话交互\n",
    "# tokenizer 为之前加载的分词器，query 是多模态输入，history 为对话历史，初始为 None\n",
    "# 该方法返回模型的回复和更新后的对话历史\n",
    "response, history = model.chat(tokenizer, query=query, history=None,use_cache=False)\n",
    "# 打印模型的回复\n",
    "print(response)\n",
    "# 示例输出：图中展示了一辆蓝色的特斯拉Model3轿车的尾部，从图中可以观察到车辆的尾部有部分凹陷和划痕，但无法确定是否为车辆被追尾。\n",
    "\n",
    "# 继续调用模型的 chat 方法，传入新的文本指令和之前的对话历史\n",
    "# 该方法会基于之前的对话上下文给出新的回复\n",
    "response, history = model.chat(tokenizer, '框出图中轮毂的位置', history=history,use_cache=False)\n",
    "# 打印新的回复\n",
    "print(response)\n",
    "# 示例输出：<ref>轮毂</ref><box>(154,553),(310,880)</box>\n",
    "\n",
    "# 调用分词器的 draw_bbox_on_latest_picture 方法，根据模型回复中的框选信息在最新图像上绘制边界框\n",
    "# 该方法接受模型回复和对话历史作为参数，返回绘制好边界框的图像对象\n",
    "image = tokenizer.draw_bbox_on_latest_picture(response, history)\n",
    "# 判断是否成功获取到绘制好边界框的图像\n",
    "if image:\n",
    "    # 如果获取到图像，将其保存为 wheel.jpg 文件\n",
    "    image.save('wheel.jpg')\n",
    "else:\n",
    "    # 如果未获取到图像，打印提示信息\n",
    "    print(\"no box\")\n"
   ]
  },
  {
   "cell_type": "code",
   "execution_count": null,
   "id": "588b4c60-8319-4001-8e9b-3f1d54e6fe28",
   "metadata": {
    "tags": []
   },
   "outputs": [],
   "source": [
    "\n",
    "#response = '<ref>轮毂</ref><box>(100,460),(250,880)</box>'\n",
    "#response = '<ref>轮毂</ref><box>(1,1),(1000,1000)</box>'\n",
    "\n",
    "# 调用 tokenizer 对象的 draw_bbox_on_latest_picture 方法，该方法的作用是根据传入的 response 和 history 参数，\n",
    "# 在最新的图片上绘制边界框（bounding box）。response 通常包含边界框的位置信息，\n",
    "# history 可能包含对话历史或图片相关的上下文信息。方法执行后会返回绘制好边界框的图片对象，若绘制失败则可能返回 None。\n",
    "image = tokenizer.draw_bbox_on_latest_picture(response, history)\n",
    "if image:\n",
    "    image.save('wheel.jpg')\n",
    "else:\n",
    "    print(\"no box\")\n"
   ]
  },
  {
   "cell_type": "code",
   "execution_count": null,
   "id": "692bf84c-fa61-4fec-a34c-b0ec246cf337",
   "metadata": {
    "tags": []
   },
   "outputs": [],
   "source": [
    "\n",
    "response, history = model.chat(tokenizer, '框出图中凹陷和划痕的位置', history=history,use_cache=False )\n",
    "print(response)\n",
    "image = tokenizer.draw_bbox_on_latest_picture(response, history)\n",
    "if image:\n",
    "    image.save('car_damage.jpg')\n",
    "else:\n",
    "    print(\"no box\")\n"
   ]
  },
  {
   "cell_type": "code",
   "execution_count": null,
   "id": "db01f716-b3a5-40e7-810e-1eb51c9575fb",
   "metadata": {
    "tags": []
   },
   "outputs": [],
   "source": [
    "# 显示gradio和transformers的版本\n",
    "import gradio\n",
    "gradio.__version__\n",
    "import transformers \n",
    "transformers.__version__\n",
    "import torch\n",
    "torch.__version__"
   ]
  },
  {
   "cell_type": "code",
   "execution_count": null,
   "id": "3d7c5d51-074a-4c8f-ae90-3732fd64e87d",
   "metadata": {
    "tags": []
   },
   "outputs": [],
   "source": [
    "\n",
    "# 第1轮对话\n",
    "query = tokenizer.from_list_format([\n",
    "    {'image': 'https://qianwen-res.oss-cn-beijing.aliyuncs.com/Qwen-VL/assets/demo.jpeg'}, # Either a local path or an url\n",
    "    {'text': '这是什么?'},\n",
    "])\n",
    "response, history = model.chat(tokenizer, query=query, history=None)\n",
    "print(response)\n",
    "# 图中是一名女子在沙滩上和狗玩耍，旁边是一只拉布拉多犬，它们处于沙滩上。\n"
   ]
  },
  {
   "cell_type": "code",
   "execution_count": null,
   "id": "6604da47-029c-420c-9f43-8e413f41ad26",
   "metadata": {
    "tags": []
   },
   "outputs": [],
   "source": [
    "\n",
    "# 第1轮对话\n",
    "query = tokenizer.from_list_format([\n",
    "    {'image': 'https://vl-image.oss-cn-shanghai.aliyuncs.com/1.jpg'}, \n",
    "    {'text': '这是什么？'},\n",
    "])\n",
    "response, history = model.chat(tokenizer, query=query, history=None,use_cache=False)\n",
    "print(response)\n"
   ]
  },
  {
   "cell_type": "code",
   "execution_count": null,
   "id": "a44628eb-d14e-4659-aa05-f3e62ae0e419",
   "metadata": {
    "tags": []
   },
   "outputs": [],
   "source": [
    "\n",
    "# 第2轮对话\n",
    "response, history = model.chat(tokenizer, '框出图中包装有缺陷的位置', history=history,use_cache=False)\n",
    "print(response)\n",
    "# <ref>击掌</ref><box>(536,509),(588,602)</box>\n",
    "image = tokenizer.draw_bbox_on_latest_picture(response, history)\n",
    "if image:\n",
    "    image.save('2.jpg')\n",
    "else:\n",
    "    print(\"no box\")\n"
   ]
  },
  {
   "cell_type": "code",
   "execution_count": null,
   "id": "46b128d7-e1bc-442d-80c6-ae350e8963b2",
   "metadata": {
    "tags": []
   },
   "outputs": [],
   "source": [
    "\n",
    "import matplotlib.pyplot as plt\n",
    "import matplotlib.image as mpimg\n",
    "\n",
    "# 读取图像\n",
    "img = mpimg.imread('2.jpg')\n",
    "# 显示图像\n",
    "plt.imshow(img)\n",
    "# 添加标题\n",
    "plt.title('2.jpg')\n",
    "# 隐藏坐标轴\n",
    "plt.axis('off')\n",
    "# 显示图像\n",
    "plt.show()\n"
   ]
  },
  {
   "cell_type": "code",
   "execution_count": null,
   "id": "0eddc6bc-4865-468e-b6d9-896f38dd3eb6",
   "metadata": {
    "tags": []
   },
   "outputs": [],
   "source": [
    "\n",
    "# 读取图像\n",
    "img = mpimg.imread('3.jpg')\n",
    "# 显示图像\n",
    "plt.imshow(img)\n",
    "# 隐藏坐标轴\n",
    "plt.axis('off')\n",
    "# 显示图像\n",
    "plt.show()\n",
    "\n",
    "# 第1轮对话\n",
    "query = tokenizer.from_list_format([\n",
    "    {'image': 'https://vl-image.oss-cn-shanghai.aliyuncs.com/3.jpg'}, \n",
    "    {'text': '厦门航空在哪个区？'}, \n",
    "])\n",
    "response, history = model.chat(tokenizer, query=query, history=None,use_cache=False)\n",
    "print(response)\n",
    "\n",
    "# 第1轮对话\n",
    "query = tokenizer.from_list_format([\n",
    "    {'image': 'https://vl-image.oss-cn-shanghai.aliyuncs.com/3.jpg'}, \n",
    "    {'text': 'A区有哪些航空公司？'},\n",
    "])\n",
    "response, history = model.chat(tokenizer, query=query, history=None,use_cache=False)\n",
    "print(response)\n",
    "\n",
    "# 第2轮对话\n"
   ]
  },
  {
   "cell_type": "code",
   "execution_count": null,
   "id": "f581f649-6d26-4c98-9191-551710ac1bc5",
   "metadata": {
    "tags": []
   },
   "outputs": [],
   "source": [
    "\n",
    "# 读取图像\n",
    "img = mpimg.imread('4.jpg')\n",
    "# 显示图像\n",
    "plt.imshow(img)\n",
    "# 隐藏坐标轴\n",
    "plt.axis('off')\n",
    "# 显示图像\n",
    "plt.show()\n",
    "\n",
    "# 第1轮对话\n",
    "query = tokenizer.from_list_format([\n",
    "    {'image': 'https://vl-image.oss-cn-shanghai.aliyuncs.com/4.jpg'}, \n",
    "    {'text': '机场巴士在第几层？'}, \n",
    "])\n",
    "response, history = model.chat(tokenizer, query=query, history=None,use_cache=False)\n",
    "print(response)\n"
   ]
  },
  {
   "cell_type": "code",
   "execution_count": null,
   "id": "d5d78ccf-e310-42df-a125-c9584d619b8e",
   "metadata": {
    "tags": []
   },
   "outputs": [],
   "source": [
    "\n",
    "# 读取图像\n",
    "img = mpimg.imread('5.png')\n",
    "# 显示图像\n",
    "plt.imshow(img)\n",
    "# 隐藏坐标轴\n",
    "plt.axis('off')\n",
    "# 显示图像\n",
    "plt.show()\n",
    "\n",
    "# 第1轮对话\n",
    "query = tokenizer.from_list_format([\n",
    "    {'image': 'https://vl-image.oss-cn-shanghai.aliyuncs.com/5.png'}, \n",
    "    {'text': '头等舱免费行李额是多少KG？'}, \n",
    "])\n",
    "response, history = model.chat(tokenizer, query=query, history=None,use_cache=False)\n",
    "print(response)\n"
   ]
  }
 ],
 "metadata": {
  "kernelspec": {
   "display_name": "Python 3 (ipykernel)",
   "language": "python",
   "name": "python3"
  },
  "language_info": {
   "codemirror_mode": {
    "name": "ipython",
    "version": 3
   },
   "file_extension": ".py",
   "mimetype": "text/x-python",
   "name": "python",
   "nbconvert_exporter": "python",
   "pygments_lexer": "ipython3",
   "version": "3.11.6"
  }
 },
 "nbformat": 4,
 "nbformat_minor": 5
}
