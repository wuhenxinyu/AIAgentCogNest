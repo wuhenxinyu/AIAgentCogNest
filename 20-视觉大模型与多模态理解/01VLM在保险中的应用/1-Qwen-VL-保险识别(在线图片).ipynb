{
 "cells": [
  {
   "cell_type": "markdown",
   "id": "76cc7f5c-c05f-4774-9726-e79cfdc223d8",
   "metadata": {},
   "source": [
    "保险场景 VLM使用"
   ]
  },
  {
   "cell_type": "code",
   "execution_count": null,
   "id": "d2d11d44-fa60-4e87-a1de-f393320551d9",
   "metadata": {},
   "outputs": [],
   "source": [
    "import os\n",
    "from openai import OpenAI\n",
    "import pandas as pd\n",
    "\n",
    "client = OpenAI(\n",
    "    api_key=\"your_api_key_here\", \n",
    "    base_url=\"https://dashscope.aliyuncs.com/compatible-mode/v1\",\n",
    ")\n",
    "\n",
    "# 调用VLM，得到推理结果\n",
    "# user_prompt：用户想要分析的内容\n",
    "# image_url：想要分析的图片\n",
    "def get_response(user_prompt, image_url):\n",
    "    # 得到image_url_list，一张图片也放到[]中\n",
    "    if image_url.startswith('[') and ',' in image_url:\n",
    "        # 判断 image_url 是否为列表格式，若以 '[' 开头且包含 ','，则认为传入的是一个图片 URL 列表\n",
    "        # 去除 image_url 字符串两端的空白字符\n",
    "        image_url = image_url.strip()\n",
    "        # 去除字符串首尾的 '[' 和 ']'，以获取实际的 URL 内容\n",
    "        image_url = image_url[1:-1]\n",
    "        # 以逗号为分隔符，将字符串分割成多个 URL 组成的列表\n",
    "        image_url_list = image_url.split(',')\n",
    "        # 对分割后的每个 URL 去除两端的空白字符，保证 URL 的纯净性\n",
    "        image_url_list = [temp_url.strip() for temp_url in image_url_list]\n",
    "    else:\n",
    "        image_url_list = [image_url]\n",
    "    # 得到messages\n",
    "    content = [{\"type\": \"text\", \"text\": f\"{user_prompt}\"}]\n",
    "    for temp_url in image_url_list: \n",
    "        image_url = f\"https://vl-image.oss-cn-shanghai.aliyuncs.com/{temp_url}.jpg\"\n",
    "        content.append({\"type\": \"image_url\", \"image_url\": {\"url\": image_url}})\n",
    "    messages = [\n",
    "        {\n",
    "            \"role\": \"user\",\n",
    "            \"content\": content\n",
    "        }\n",
    "    ]\n",
    "    # JSON 样例格式\n",
    "    \"\"\"\n",
    "    {\n",
    "        \"messages\": [\n",
    "            {\n",
    "                \"role\": \"user\",\n",
    "                \"content\": [\n",
    "                    {\n",
    "                        \"type\": \"text\",\n",
    "                        \"text\": \"请分析这些图片\"\n",
    "                    },\n",
    "                    {\n",
    "                        \"type\": \"image_url\",\n",
    "                        \"image_url\": {\n",
    "                            \"url\": \"https://vl-image.oss-cn-shanghai.aliyuncs.com/image1.jpg\"\n",
    "                        }\n",
    "                    },\n",
    "                    {\n",
    "                        \"type\": \"image_url\",\n",
    "                        \"image_url\": {\n",
    "                            \"url\": \"https://vl-image.oss-cn-shanghai.aliyuncs.com/image2.jpg\"\n",
    "                        }\n",
    "                    }\n",
    "                ]\n",
    "            }\n",
    "        ]\n",
    "    }\n",
    "    \"\"\"\n",
    "\n",
    "    print(f'messages={messages}')\n",
    "    completion = client.chat.completions.create(\n",
    "        model=\"qwen-vl-max\", #qwen-vl-plus\n",
    "        messages=messages    \n",
    "        )\n",
    "    print(completion.model_dump_json())\n",
    "    return completion"
   ]
  },
  {
   "cell_type": "code",
   "execution_count": null,
   "id": "8d49b1ad",
   "metadata": {},
   "outputs": [],
   "source": [
    "%pip install openpyxl"
   ]
  },
  {
   "cell_type": "code",
   "execution_count": null,
   "id": "ffa40fc7-aa39-4b1b-942b-2ad66fc0f4a2",
   "metadata": {},
   "outputs": [],
   "source": [
    "# 从当前目录下读取名为 'prompt_template_cn.xlsx' 的 Excel 文件，并将其内容存储到 DataFrame 中\n",
    "df = pd.read_excel('./prompt_template_cn.xlsx')\n",
    "# 在 DataFrame 中新增一列 'response'，并将初始值都设为空字符串\n",
    "df['response'] = ''\n",
    "\n",
    "# 遍历 DataFrame 的每一行\n",
    "for index, row in df.iterrows():\n",
    "    # 从当前行中获取提示信息\n",
    "    user_prompt = row['prompt']\n",
    "    # 从当前行中获取图片的 URL\n",
    "    image_url = row['image']\n",
    "    \n",
    "    # 调用 get_response 函数，传入提示信息和图片 URL，获取 VLM 模型的推理结果\n",
    "    completion = get_response(user_prompt, image_url)\n",
    "    # 从推理结果中提取第一条消息的内容\n",
    "    response = completion.choices[0].message.content\n",
    "    # 将提取的响应内容填充到当前行的 'response' 列中\n",
    "    df.loc[index, 'response'] = response\n",
    "    # 打印当前处理的行号、提示信息和图片 URL\n",
    "    print(f\"{index+1} {user_prompt} {image_url}\")\n",
    "\n",
    "# 将处理后的 DataFrame 保存为 Excel 文件，文件名为 'prompt_template_cn_result.xlsx'，且不保存行索引\n",
    "df.to_excel('./prompt_template_cn_result.xlsx', index=False)"
   ]
  },
  {
   "cell_type": "code",
   "execution_count": null,
   "id": "0d17ab03-cb17-4f6d-89c9-737c2727972c",
   "metadata": {},
   "outputs": [],
   "source": [
    "df"
   ]
  }
 ],
 "metadata": {
  "kernelspec": {
   "display_name": "venv",
   "language": "python",
   "name": "python3"
  },
  "language_info": {
   "codemirror_mode": {
    "name": "ipython",
    "version": 3
   },
   "file_extension": ".py",
   "mimetype": "text/x-python",
   "name": "python",
   "nbconvert_exporter": "python",
   "pygments_lexer": "ipython3",
   "version": "3.13.1"
  }
 },
 "nbformat": 4,
 "nbformat_minor": 5
}
