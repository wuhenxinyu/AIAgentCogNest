{
 "cells": [
  {
   "cell_type": "code",
   "execution_count": null,
   "id": "d2d11d44-fa60-4e87-a1de-f393320551d9",
   "metadata": {},
   "outputs": [],
   "source": [
    "import json\n",
    "import os\n",
    "import dashscope\n",
    "from dashscope.api_entities.dashscope_response import Role\n",
    "from dashscope import MultiModalConversation\n",
    "dashscope.api_key = \"your_api_key_here\"\n",
    "\n",
    "local_file_path = 'file://1-Chinese-document-extraction.jpg'\n",
    "messages = [{\n",
    "    'role': 'system',\n",
    "    'content': [{\n",
    "        'text': '你是一个乐于助人的助手。'\n",
    "    }]\n",
    "}, {\n",
    "    'role': 'user',\n",
    "    'content': [\n",
    "        {\n",
    "            'image': local_file_path\n",
    "        },\n",
    "        {\n",
    "            'text': '图片里有什么东西?'\n",
    "        },\n",
    "    ]\n",
    "}]\n",
    "# MultiModalConversation 是 dashscope 库中的一个类，用于处理多模态对话任务。调用其 call 方法，使用 'qwen-vl-plus' 模型进行多模态对话。\n",
    "# 参数 model 指定了使用的模型为 'qwen-vl-plus'，该模型支持多模态处理。\n",
    "# 参数 messages 传入了之前定义好的对话消息列表，其中包含了系统指令和用户的图片及文本请求。\n",
    "# 该方法会将请求发送给模型并获取响应，最终将响应结果赋值给变量 response。\n",
    "response = MultiModalConversation.call(model='qwen-vl-plus', messages=messages)\n",
    "print(response)\n",
    "\n"
   ]
  },
  {
   "cell_type": "code",
   "execution_count": null,
   "id": "b6bdee02-cf06-436b-9c9e-58f406b85592",
   "metadata": {},
   "outputs": [],
   "source": [
    "print(response.output.choices[0].message.content[0]['text'])"
   ]
  }
 ],
 "metadata": {
  "kernelspec": {
   "display_name": "venv",
   "language": "python",
   "name": "python3"
  },
  "language_info": {
   "codemirror_mode": {
    "name": "ipython",
    "version": 3
   },
   "file_extension": ".py",
   "mimetype": "text/x-python",
   "name": "python",
   "nbconvert_exporter": "python",
   "pygments_lexer": "ipython3",
   "version": "3.13.1"
  }
 },
 "nbformat": 4,
 "nbformat_minor": 5
}
